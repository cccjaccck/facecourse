{
 "cells": [
  {
   "cell_type": "code",
   "execution_count": 3,
   "metadata": {},
   "outputs": [],
   "source": [
    "import cv2\n",
    "import numpy as np\n",
    "\n",
    "def drawPolyline(im, landmarks, start, end, isClosed=False) :\n",
    "    points = []\n",
    "    for i in range(start, end+1) :\n",
    "        point = [landmarks.part(i).x, landmarks.part(i).y]\n",
    "        points.append(point)\n",
    "        \n",
    "    points = np.array(points, dtype=np.int32)\n",
    "    cv2.polylines(im, [points], isClosed, (255, 200, 0),\n",
    "                 thickness=2, lineType=cv2.LINE_8)\n",
    "    \n",
    "\n",
    "# Use this function for 70-poinst facial lanmark detector model\n",
    "def renderFace(im, landmarks) :\n",
    "    assert(landmarks.num_parts == 68)\n",
    "    drawPolyline(im, landmarks, 0, 16)              # Jaw line\n",
    "    drawPolyline(im, landmarks, 17, 21)             # Left eyebrow\n",
    "    drawPolyline(im, landmarks, 22, 26)             # Right eyebrow\n",
    "    drawPolyline(im, landmarks, 27, 30)             # NOse bridge \n",
    "    drawPolyline(im, landmarks, 30, 35, True)       # Lower nose\n",
    "    drawPolyline(im, landmarks, 36, 41, True)       # Left eye\n",
    "    drawPolyline(im, landmarks, 42, 47, True)       # Right eye\n",
    "    drawPolyline(im, landmarks, 48, 59, True)       # Outer LIp\n",
    "    drawPolyline(im, landmarks, 60, 67, True)       # Inner lip\n",
    "\n",
    "    \n",
    "# Ues this funciton for any model other than \n",
    "# 70 points facial_landmark detctor model\n",
    "def renderFace2(im, landmarks, color=(0, 255, 0), radius=3):\n",
    "    for p in landmarks.parts() :\n",
    "        cv2.circle(im, (p.x, p.y), radius, color, -1)"
   ]
  },
  {
   "cell_type": "code",
   "execution_count": null,
   "metadata": {},
   "outputs": [],
   "source": []
  }
 ],
 "metadata": {
  "kernelspec": {
   "display_name": "Python 3",
   "language": "python",
   "name": "python3"
  },
  "language_info": {
   "codemirror_mode": {
    "name": "ipython",
    "version": 3
   },
   "file_extension": ".py",
   "mimetype": "text/x-python",
   "name": "python",
   "nbconvert_exporter": "python",
   "pygments_lexer": "ipython3",
   "version": "3.6.9"
  }
 },
 "nbformat": 4,
 "nbformat_minor": 2
}
