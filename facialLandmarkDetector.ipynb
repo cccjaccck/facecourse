{
 "cells": [
  {
   "cell_type": "code",
   "execution_count": 1,
   "metadata": {},
   "outputs": [],
   "source": [
    "def drawPolyline(im, landmarks, start, end, isClosed=False) :\n",
    "    points = []\n",
    "    for i in range(start, end+1) :\n",
    "        point = [landmarks.part(i).x, landmarks.part(i).y]\n",
    "        points.append(point)\n",
    "        \n",
    "    points = np.array(points, dtype=np.int32)\n",
    "    cv2.polylines(im, [points], isClosed, (255, 200, 0),\n",
    "                 thickness=2, lineType=cv2.LINE_8)\n",
    "    \n",
    "\n",
    "# Use this function for 70-poinst facial lanmark detector model\n",
    "def renderFace(im, landmarks) :\n",
    "    assert(landmarks.num_parts == 68)\n",
    "    drawPolyline(im, landmarks, 0, 16)              # Jaw line\n",
    "    drawPolyline(im, landmarks, 17, 21)             # Left eyebrow\n",
    "    drawPolyline(im, landmarks, 22, 26)             # Right eyebrow\n",
    "    drawPolyline(im, landmarks, 27, 30)             # NOse bridge \n",
    "    drawPolyline(im, landmarks, 30, 35, True)       # Lower nose\n",
    "    drawPolyline(im, landmarks, 36, 41, True)       # Left eye\n",
    "    drawPolyline(im, landmarks, 42, 47, True)       # Right eye\n",
    "    drawPolyline(im, landmarks, 48, 59, True)       # Outer LIp\n",
    "    drawPolyline(im, landmarks, 60, 67, True)       # Inner lip\n",
    "\n",
    "    \n",
    "# Ues this funciton for any model other than \n",
    "# 70 points facial_landmark detctor model\n",
    "def renderFace2(im, landmarks, color=(0, 255, 0), radius=3):\n",
    "    for p in landmarks.parts() :\n",
    "        cv2.circle(im, (p.x, p.y), radius, color, -1)"
   ]
  },
  {
   "cell_type": "code",
   "execution_count": null,
   "metadata": {},
   "outputs": [],
   "source": []
  },
  {
   "cell_type": "code",
   "execution_count": 2,
   "metadata": {},
   "outputs": [],
   "source": [
    "import dlib, cv2\n",
    "import numpy as np\n",
    "# from renderFace import renderFace\n",
    "\n",
    "def writeLandmarksToFile(landmarks, landmarksFileName) :\n",
    "    with open(landmarksFileName, 'w') as f:\n",
    "        for p in landmarks.parts() :\n",
    "            f.write(\"%s %s\\n\" %(int(p.x), int(p.y)))\n",
    "            \n",
    "    f.close()"
   ]
  },
  {
   "cell_type": "code",
   "execution_count": 3,
   "metadata": {},
   "outputs": [],
   "source": [
    "# Landmark model location\n",
    "PREDICTOR_PATH = \"./models/shape_predictor_68_face_landmarks.dat\"\n",
    "\n",
    "# Get the face detector\n",
    "faceDetector = dlib.get_frontal_face_detector()\n",
    "\n",
    "# The landmark detector is implemented in the shape_predictor class\n",
    "landmarkDetector = dlib.shape_predictor(PREDICTOR_PATH)\n"
   ]
  },
  {
   "cell_type": "code",
   "execution_count": 13,
   "metadata": {},
   "outputs": [],
   "source": [
    "# Read image\n",
    "imageFilename = \"./data/images/ben.jpg\"\n",
    "im = cv2.imread(imageFilename)\n",
    "# landmarks will be stored in results/family_i.txt\n",
    "landmarksBasename = \"./data/images/ben\""
   ]
  },
  {
   "cell_type": "code",
   "execution_count": 14,
   "metadata": {},
   "outputs": [
    {
     "name": "stdout",
     "output_type": "stream",
     "text": [
      "Number of faces dectected:  1\n"
     ]
    }
   ],
   "source": [
    "# Detect faces in the image\n",
    "faceRects = faceDetector(im, 0)\n",
    "print(\"Number of faces dectected: \", len(faceRects))\n",
    "\n",
    "# List to store landmarks of all detected faces\n",
    "landmarksAll = []"
   ]
  },
  {
   "cell_type": "code",
   "execution_count": 15,
   "metadata": {},
   "outputs": [
    {
     "name": "stdout",
     "output_type": "stream",
     "text": [
      "Number of landmarks 68\n",
      "Saving landmarks to ./data/images/ben_0.txt\n"
     ]
    }
   ],
   "source": [
    "# Loop over all detected face rectangles\n",
    "for i in range(0, len(faceRects)) :\n",
    "    newRect = dlib.rectangle(int(faceRects[i].left()),\n",
    "                            int(faceRects[i].top()),\n",
    "                            int(faceRects[i].right()),\n",
    "                            int(faceRects[i].bottom()))\n",
    "    # For every face rectangle, run landmarkDectector\n",
    "    landmarks = landmarkDetector(im, newRect)\n",
    "    # Print number of landmarks\n",
    "    if i==0:\n",
    "        print(\"Number of landmarks\", len(landmarks.parts()))\n",
    "        \n",
    "    # Store landmarks for current face\n",
    "    landmarksAll.append(landmarks)\n",
    "    \n",
    "    # Draw landmarks on face\n",
    "    renderFace(im, landmarks)\n",
    "    \n",
    "    landmarksFileName = landmarksBasename + \"_\" + str(i) + \".txt\"\n",
    "    print(\"Saving landmarks to\", landmarksFileName)\n",
    "    # Write landmarks to disk\n",
    "    writeLandmarksToFile(landmarks, landmarksFileName)"
   ]
  },
  {
   "cell_type": "code",
   "execution_count": null,
   "metadata": {},
   "outputs": [],
   "source": [
    "outputFileName = \"results/t2Landmarks.jpg\"\n",
    "print(\"Saving output image to\", outputFileName)\n",
    "cv2.imwrite(outputFileName, im)\n",
    "\n",
    "cv2.imshow(\"Facial Landmark dectector\", im)\n",
    "cv2.waitKey(0)\n",
    "cv2.destroyAllWindows()"
   ]
  },
  {
   "cell_type": "code",
   "execution_count": null,
   "metadata": {},
   "outputs": [],
   "source": []
  }
 ],
 "metadata": {
  "kernelspec": {
   "display_name": "Python 3",
   "language": "python",
   "name": "python3"
  },
  "language_info": {
   "codemirror_mode": {
    "name": "ipython",
    "version": 3
   },
   "file_extension": ".py",
   "mimetype": "text/x-python",
   "name": "python",
   "nbconvert_exporter": "python",
   "pygments_lexer": "ipython3",
   "version": "3.6.5"
  }
 },
 "nbformat": 4,
 "nbformat_minor": 2
}
