{
 "cells": [
  {
   "cell_type": "code",
   "execution_count": null,
   "metadata": {},
   "outputs": [],
   "source": []
  },
  {
   "cell_type": "code",
   "execution_count": 1,
   "metadata": {},
   "outputs": [],
   "source": [
    "def drawPolyline(im, landmarks, start, end, isClosed=False) :\n",
    "    points = []\n",
    "    for i in range(start, end+1) :\n",
    "        point = [landmarks.part(i).x, landmarks.part(i).y]\n",
    "        points.append(point)\n",
    "        \n",
    "    points = np.array(points, dtype=np.int32)\n",
    "    cv2.polylines(im, [points], isClosed, (255, 200, 0),\n",
    "                 thickness=2, lineType=cv2.LINE_8)\n",
    "    \n",
    "\n",
    "# Use this function for 70-poinst facial lanmark detector model\n",
    "def renderFace(im, landmarks) :\n",
    "    assert(landmarks.num_parts == 68)\n",
    "    drawPolyline(im, landmarks, 0, 16)              # Jaw line\n",
    "    drawPolyline(im, landmarks, 17, 21)             # Left eyebrow\n",
    "    drawPolyline(im, landmarks, 22, 26)             # Right eyebrow\n",
    "    drawPolyline(im, landmarks, 27, 30)             # NOse bridge \n",
    "    drawPolyline(im, landmarks, 30, 35, True)       # Lower nose\n",
    "    drawPolyline(im, landmarks, 36, 41, True)       # Left eye\n",
    "    drawPolyline(im, landmarks, 42, 47, True)       # Right eye\n",
    "    drawPolyline(im, landmarks, 48, 59, True)       # Outer LIp\n",
    "    drawPolyline(im, landmarks, 60, 67, True)       # Inner lip\n",
    "\n",
    "    \n",
    "# Ues this funciton for any model other than \n",
    "# 70 points facial_landmark detctor model\n",
    "def renderFace2(im, landmarks, color=(0, 255, 0), radius=3):\n",
    "    for p in landmarks.parts() :\n",
    "        cv2.circle(im, (p.x, p.y), radius, color, -1)"
   ]
  },
  {
   "cell_type": "code",
   "execution_count": 123,
   "metadata": {
    "scrolled": true
   },
   "outputs": [
    {
     "name": "stdout",
     "output_type": "stream",
     "text": [
      "Number of faces 1 dectected:  1\n",
      "Number of faces 2 dectected:  1\n",
      "Number of landmarks 1 :  68\n",
      "Number of landmarks 2 :  68\n"
     ]
    }
   ],
   "source": [
    "import dlib, cv2\n",
    "import numpy as np\n",
    "# from renderFace import renderFace\n",
    "\n",
    "def writeLandmarksToFile(landmarks, landmarksFileName) :\n",
    "    with open(landmarksFileName, 'w') as f:\n",
    "        for p in landmarks.parts() :\n",
    "            f.write(\"%s %s\\n\" %(int(p.x), int(p.y)))\n",
    "            \n",
    "    f.close()\n",
    "    \n",
    "def appendLandmarksToList(landmarks, arr) :\n",
    "    for p in landmarks.parts() :\n",
    "        arr.append((int(p.x), int(p.y)))\n",
    "    \n",
    "\n",
    "    \n",
    "# Landmark model location\n",
    "PREDICTOR_PATH = \"./models/shape_predictor_68_face_landmarks.dat\"\n",
    "\n",
    "# Get the face detector\n",
    "faceDetector = dlib.get_frontal_face_detector()\n",
    "\n",
    "# The landmark detector is implemented in the shape_predictor class\n",
    "landmarkDetector = dlib.shape_predictor(PREDICTOR_PATH)\n",
    "\n",
    "    \n",
    "    \n",
    "# Read image\n",
    "imageFilename1 = \"./data/images/rapunzel.jpg\"\n",
    "imageFilename2 = \"./data/images/seoyoung.jpg\"\n",
    "im1 = cv2.imread(imageFilename1)\n",
    "# im2 = im1[:, int(im1.shape[1]/2) :]\n",
    "# im1 = im1[:, :int(im1.shape[1]/2)]\n",
    "im2 = cv2.imread(imageFilename2)\n",
    "im1 = cv2.resize(im1, (600, 600))\n",
    "im2 = cv2.resize(im2, (600, 600))\n",
    "# im1 = cv2.flip(im1, 1)\n",
    "# im2 = cv2.flip(im2, 1)\n",
    "\n",
    "# Detect faces in the image\n",
    "faceRects1 = faceDetector(im1, 0)\n",
    "faceRects2 = faceDetector(im2, 0)\n",
    "print(\"Number of faces 1 dectected: \", len(faceRects1))\n",
    "print(\"Number of faces 2 dectected: \", len(faceRects2))\n",
    "\n",
    "# List to store landmarks of all detected faces\n",
    "landmarksAll1 = []\n",
    "landmarksAll2 = []\n",
    "\n",
    "# 랜드마크 찾기\n",
    "# Loop over all detected face rectangles\n",
    "for i in range(0, len(faceRects1)) :\n",
    "    newRect1 = dlib.rectangle(int(faceRects1[i].left()),\n",
    "                            int(faceRects1[i].top()),\n",
    "                            int(faceRects1[i].right()),\n",
    "                            int(faceRects1[i].bottom()))\n",
    "    newRect2 = dlib.rectangle(int(faceRects2[i].left()),\n",
    "                            int(faceRects2[i].top()),\n",
    "                            int(faceRects2[i].right()),\n",
    "                            int(faceRects2[i].bottom()))\n",
    "    #\n",
    "    # For every face rectangle, run landmarkDectector\n",
    "    landmarks1 = landmarkDetector(im1, newRect1)\n",
    "    landmarks2 = landmarkDetector(im2, newRect2)\n",
    "    # Print number of landmarks\n",
    "    if i==0:\n",
    "        print(\"Number of landmarks 1 : \", len(landmarks1.parts()))\n",
    "        print(\"Number of landmarks 2 : \", len(landmarks1.parts()))\n",
    "        \n",
    "    # Store landmarks for current face\n",
    "    appendLandmarksToList(landmarks1, landmarksAll1)\n",
    "    appendLandmarksToList(landmarks2, landmarksAll2)\n",
    "    \n",
    "#     Draw landmarks on face\n",
    "#     renderFace(im1, landmarks1)\n",
    "#     renderFace(im2, landmarks2)\n",
    "    \n",
    "#     landmarksFileName = imageFilename + \".txt\"\n",
    "#     print(\"Saving landmarks to\", landmarksFileName)\n",
    "    # Write landmarks to disk\n",
    "#     writeLandmarksToFile(landmarks, landmarksFileName)"
   ]
  },
  {
   "cell_type": "code",
   "execution_count": 87,
   "metadata": {},
   "outputs": [
    {
     "data": {
      "text/plain": [
       "(600, 600, 4)"
      ]
     },
     "execution_count": 87,
     "metadata": {},
     "output_type": "execute_result"
    }
   ],
   "source": [
    "cropped_img.shape"
   ]
  },
  {
   "cell_type": "code",
   "execution_count": 127,
   "metadata": {},
   "outputs": [
    {
     "data": {
      "text/plain": [
       "array([255], dtype=uint8)"
      ]
     },
     "execution_count": 127,
     "metadata": {},
     "output_type": "execute_result"
    }
   ],
   "source": []
  },
  {
   "cell_type": "code",
   "execution_count": 124,
   "metadata": {},
   "outputs": [],
   "source": [
    "tmp = cv2.cvtColor(im2, cv2.COLOR_BGR2GRAY)\n",
    "r, g, b = cv2.split(im2)\n",
    "_,a = cv2.threshold(tmp,0,255,cv2.THRESH_BINARY)\n",
    "ddd = cv2.merge([r,g,b,a],4)\n",
    "im2 = ddd\n",
    "cv2.imshow(\"cropped\", ddd)\n",
    "\n",
    "cv2.waitKey()\n",
    "cv2.destroyAllWindows()"
   ]
  },
  {
   "cell_type": "code",
   "execution_count": 89,
   "metadata": {},
   "outputs": [],
   "source": [
    "tmp = cv2.cvtColor(im1, cv2.COLOR_BGR2GRAY)\n",
    "r, g, b = cv2.split(im1)\n",
    "_,a = cv2.threshold(tmp,0,255,cv2.THRESH_BINARY)\n",
    "ddd = cv2.merge([r,g,b,a],4)\n",
    "im1 = ddd"
   ]
  },
  {
   "cell_type": "code",
   "execution_count": 92,
   "metadata": {},
   "outputs": [],
   "source": [
    "landmarks = np.array(landmarksAll2)\n",
    "\n",
    "outline = landmarks[[*range(17), *range(26,16,-1)]]\n",
    "outline = np.array(outline)\n",
    "cropped_img = np.zeros((im2.shape[0],im2.shape[1],4))\n",
    "cv2.fillConvexPoly(cropped_img, cv2.convexHull(outline), (255,255,255,255))\n",
    "cv2.imshow(\"cropped\", cropped_img)\n",
    "cv2.waitKey()\n",
    "cv2.destroyAllWindows()"
   ]
  },
  {
   "cell_type": "code",
   "execution_count": 135,
   "metadata": {
    "scrolled": true
   },
   "outputs": [],
   "source": [
    "# out_face = np.zeros_like(im2)\n",
    "out_face = np.copy(im2)\n",
    "mask1 = cropped_img.astype(np.bool)\n",
    "mask1 = np.invert(mask1)\n",
    "# out_face[mask1] = 0\n",
    "\n",
    "# im2 = out_face\n",
    "cv2.imshow(\"cropped\", out_face)\n",
    "cv2.waitKey()\n",
    "cv2.destroyAllWindows()"
   ]
  },
  {
   "cell_type": "code",
   "execution_count": 142,
   "metadata": {},
   "outputs": [
    {
     "ename": "error",
     "evalue": "OpenCV(4.1.1) C:/projects/opencv-python/opencv/modules/highgui/src/precomp.hpp:131: error: (-215:Assertion failed) src_depth != CV_16F && src_depth != CV_32S in function 'convertToShow'\n",
     "output_type": "error",
     "traceback": [
      "\u001b[1;31m---------------------------------------------------------------------------\u001b[0m",
      "\u001b[1;31merror\u001b[0m                                     Traceback (most recent call last)",
      "\u001b[1;32m<ipython-input-142-4fca72c3418d>\u001b[0m in \u001b[0;36m<module>\u001b[1;34m\u001b[0m\n\u001b[1;32m----> 1\u001b[1;33m \u001b[0mcv2\u001b[0m\u001b[1;33m.\u001b[0m\u001b[0mimshow\u001b[0m\u001b[1;33m(\u001b[0m\u001b[1;34m\"cropped\"\u001b[0m\u001b[1;33m,\u001b[0m \u001b[0mmask1\u001b[0m\u001b[1;33m.\u001b[0m\u001b[0mastype\u001b[0m\u001b[1;33m(\u001b[0m\u001b[0mnp\u001b[0m\u001b[1;33m.\u001b[0m\u001b[0mint\u001b[0m\u001b[1;33m)\u001b[0m\u001b[1;33m)\u001b[0m\u001b[1;33m\u001b[0m\u001b[0m\n\u001b[0m\u001b[0;32m      2\u001b[0m \u001b[0mcv2\u001b[0m\u001b[1;33m.\u001b[0m\u001b[0mwaitKey\u001b[0m\u001b[1;33m(\u001b[0m\u001b[1;33m)\u001b[0m\u001b[1;33m\u001b[0m\u001b[0m\n\u001b[0;32m      3\u001b[0m \u001b[0mcv2\u001b[0m\u001b[1;33m.\u001b[0m\u001b[0mdestroyAllWindows\u001b[0m\u001b[1;33m(\u001b[0m\u001b[1;33m)\u001b[0m\u001b[1;33m\u001b[0m\u001b[0m\n",
      "\u001b[1;31merror\u001b[0m: OpenCV(4.1.1) C:/projects/opencv-python/opencv/modules/highgui/src/precomp.hpp:131: error: (-215:Assertion failed) src_depth != CV_16F && src_depth != CV_32S in function 'convertToShow'\n"
     ]
    }
   ],
   "source": [
    "cv2.imshow(\"cropped\", mask1.astype(np.int))\n",
    "cv2.waitKey()\n",
    "cv2.destroyAllWindows()"
   ]
  },
  {
   "cell_type": "code",
   "execution_count": null,
   "metadata": {},
   "outputs": [],
   "source": [
    "# 검은색 화면 "
   ]
  },
  {
   "cell_type": "code",
   "execution_count": 158,
   "metadata": {},
   "outputs": [
    {
     "data": {
      "text/plain": [
       "array([[0, 0, 0, 0],\n",
       "       [0, 0, 0, 0],\n",
       "       [0, 0, 0, 0],\n",
       "       ...,\n",
       "       [0, 0, 0, 0],\n",
       "       [0, 0, 0, 0],\n",
       "       [0, 0, 0, 0]], dtype=uint8)"
      ]
     },
     "execution_count": 158,
     "metadata": {},
     "output_type": "execute_result"
    }
   ],
   "source": [
    "im2[3]"
   ]
  },
  {
   "cell_type": "markdown",
   "metadata": {},
   "source": [
    "#### 마우스로 포인트 추가 등록"
   ]
  },
  {
   "cell_type": "code",
   "execution_count": 97,
   "metadata": {
    "scrolled": true
   },
   "outputs": [
    {
     "name": "stdout",
     "output_type": "stream",
     "text": [
      "클릭 좌표 : 111, 202\n",
      "클릭 좌표 : 125, 196\n",
      "클릭 좌표 : 141, 196\n",
      "클릭 좌표 : 159, 202\n",
      "클릭 좌표 : 170, 208\n",
      "클릭 좌표 : 236, 211\n",
      "클릭 좌표 : 267, 210\n",
      "클릭 좌표 : 294, 210\n",
      "클릭 좌표 : 312, 214\n",
      "클릭 좌표 : 333, 216\n",
      "클릭 좌표 : 111, 262\n",
      "클릭 좌표 : 123, 237\n",
      "클릭 좌표 : 165, 246\n",
      "클릭 좌표 : 174, 289\n",
      "클릭 좌표 : 150, 295\n",
      "클릭 좌표 : 117, 286\n",
      "클릭 좌표 : 248, 294\n",
      "클릭 좌표 : 269, 250\n",
      "클릭 좌표 : 312, 252\n",
      "클릭 좌표 : 351, 289\n",
      "클릭 좌표 : 324, 315\n",
      "클릭 좌표 : 278, 318\n"
     ]
    }
   ],
   "source": [
    "# 귀 가로 끝 > 목 > 왼쪽 어깨 > 오른쪽 어깨 순으로\n",
    "# 1. 마우스 이벤트 발생시 호출될 함수를 정의합니다. \n",
    "mouse = []\n",
    "def mouse_callback1(event, x, y, flags, param):\n",
    "    l = len(landmarksAll1)\n",
    "    if event == cv2.EVENT_LBUTTONDOWN:\n",
    "#         if (l==70):\n",
    "#             x = im1.shape[1] - 1\n",
    "#         if (l==71):\n",
    "#             x = 0\n",
    "        print(\"클릭 좌표 : %d, %d\"%(x,y))\n",
    "#         landmarksAll1.append((x,y))\n",
    "        mouse.append((x,y))\n",
    "\n",
    "\n",
    "# img = np.zeros((512, 512, 3), np.uint8)\n",
    "cv2.namedWindow('image')  # 2. 마우스 이벤트를 감지할 윈도우를 생성합니다.  \n",
    "\n",
    "\n",
    "# 3. 이름이 image인 윈도우에서 마우스 이벤트가 발생하면 mouse_callback 함수가 호출되게 됩니다. \n",
    "cv2.setMouseCallback('image', mouse_callback1)  \n",
    "\n",
    "\n",
    "cv2.imshow('image',im1)\n",
    "cv2.waitKey(0)\n",
    "\n",
    "cv2.destroyAllWindows() \n",
    "\n",
    "landmarksAll1[17:27] = mouse[0:10]\n",
    "landmarksAll1[36:48] = mouse[10:]"
   ]
  },
  {
   "cell_type": "code",
   "execution_count": 114,
   "metadata": {
    "scrolled": true
   },
   "outputs": [],
   "source": [
    "# 2번 사진\n",
    "def mouse_callback2(event, x, y, flags, param):\n",
    "    l = len(landmarksAll2)\n",
    "    if event == cv2.EVENT_LBUTTONDOWN:\n",
    "#         if (l==70):\n",
    "#             x = im2.shape[1] - 1\n",
    "#         if (l==71):\n",
    "#             x = 0\n",
    "        print(\"클릭 좌표 : %d, %d\"%(x,y))\n",
    "        landmarksAll2.append((x,y))\n",
    "\n",
    "\n",
    "# img = np.zeros((512, 512, 3), np.uint8)\n",
    "cv2.namedWindow('image')  # 2. 마우스 이벤트를 감지할 윈도우를 생성합니다.  \n",
    "\n",
    "\n",
    "# 3. 이름이 image인 윈도우에서 마우스 이벤트가 발생하면 mouse_callback 함수가 호출되게 됩니다. \n",
    "cv2.setMouseCallback('image', mouse_callback2)  \n",
    "\n",
    "\n",
    "cv2.imshow('image',im2)\n",
    "cv2.waitKey(0)\n",
    "\n",
    "cv2.destroyAllWindows() "
   ]
  },
  {
   "cell_type": "code",
   "execution_count": null,
   "metadata": {},
   "outputs": [],
   "source": []
  },
  {
   "cell_type": "code",
   "execution_count": 48,
   "metadata": {
    "scrolled": true
   },
   "outputs": [
    {
     "data": {
      "text/plain": [
       "(68, 68)"
      ]
     },
     "execution_count": 48,
     "metadata": {},
     "output_type": "execute_result"
    }
   ],
   "source": [
    "len(landmarksAll1), len(landmarksAll2)"
   ]
  },
  {
   "cell_type": "markdown",
   "metadata": {},
   "source": [
    "#### 이미지의 가장자리 8개 추가 등록"
   ]
  },
  {
   "cell_type": "code",
   "execution_count": 98,
   "metadata": {},
   "outputs": [],
   "source": [
    "# 1 2 3 \n",
    "# 8   4\n",
    "# 7 6 5\n",
    "\n",
    "for arr, im in [(landmarksAll1, im1), (landmarksAll2, im2)] :\n",
    "    arr.append((0, 0))\n",
    "    arr.append(((im.shape[1]-1)/2, 0))\n",
    "    arr.append((im.shape[1]-1, 0))\n",
    "    arr.append((im.shape[1]-1, (im.shape[0]-1)/2))\n",
    "    arr.append((im.shape[1]-1, im.shape[0]-1))\n",
    "    arr.append(((im.shape[1]-1)/2, im.shape[0]-1))\n",
    "    arr.append((0, im.shape[0]-1))\n",
    "    arr.append((0, (im.shape[0]-1)/2))"
   ]
  },
  {
   "cell_type": "code",
   "execution_count": 99,
   "metadata": {},
   "outputs": [
    {
     "data": {
      "text/plain": [
       "(76, 76)"
      ]
     },
     "execution_count": 99,
     "metadata": {},
     "output_type": "execute_result"
    }
   ],
   "source": [
    "len(landmarksAll1), len(landmarksAll2)"
   ]
  },
  {
   "cell_type": "code",
   "execution_count": 12,
   "metadata": {},
   "outputs": [
    {
     "data": {
      "text/plain": [
       "[(0, 0),\n",
       " (199.5, 0),\n",
       " (399, 0),\n",
       " (399, 229.5),\n",
       " (399, 459),\n",
       " (199.5, 459),\n",
       " (0, 459),\n",
       " (0, 229.5)]"
      ]
     },
     "execution_count": 12,
     "metadata": {},
     "output_type": "execute_result"
    }
   ],
   "source": [
    "landmarksAll1[-8:]"
   ]
  },
  {
   "cell_type": "code",
   "execution_count": 113,
   "metadata": {
    "scrolled": false
   },
   "outputs": [],
   "source": [
    "#!/usr/bin/env python\n",
    "\n",
    "import numpy as np\n",
    "import cv2\n",
    "import sys\n",
    "\n",
    "# Read points from text file\n",
    "def readPoints(path) :\n",
    "    # Create an array of points.\n",
    "    points = [];\n",
    "    # Read points\n",
    "    with open(path) as file :\n",
    "        for line in file :\n",
    "            x, y = line.split()\n",
    "            points.append((int(x), int(y)))\n",
    "\n",
    "    return points\n",
    "\n",
    "# Apply affine transform calculated using srcTri and dstTri to src and\n",
    "# output an image of size.\n",
    "def applyAffineTransform(src, srcTri, dstTri, size) :\n",
    "    \n",
    "    # Given a pair of triangles, find the affine transform.\n",
    "    warpMat = cv2.getAffineTransform( np.float32(srcTri), np.float32(dstTri) )\n",
    "    \n",
    "    # Apply the Affine Transform just found to the src image\n",
    "    dst = cv2.warpAffine( src, warpMat, (size[0], size[1]), None, flags=cv2.INTER_LINEAR, borderMode=cv2.BORDER_REFLECT_101 )\n",
    "\n",
    "    return dst\n",
    "\n",
    "\n",
    "# Warps and alpha blends triangular regions from img1 and img2 to img\n",
    "def morphTriangle(img1, img2, img, t1, t2, t, alpha) :\n",
    "\n",
    "    # Find bounding rectangle for each triangle\n",
    "    r1 = cv2.boundingRect(np.float32([t1]))\n",
    "    r2 = cv2.boundingRect(np.float32([t2]))\n",
    "    r = cv2.boundingRect(np.float32([t]))\n",
    "\n",
    "\n",
    "    # Offset points by left top corner of the respective rectangles\n",
    "    t1Rect = []\n",
    "    t2Rect = []\n",
    "    tRect = []\n",
    "\n",
    "\n",
    "    for i in range(0, 3):\n",
    "        tRect.append(((t[i][0] - r[0]),(t[i][1] - r[1])))\n",
    "        t1Rect.append(((t1[i][0] - r1[0]),(t1[i][1] - r1[1])))\n",
    "        t2Rect.append(((t2[i][0] - r2[0]),(t2[i][1] - r2[1])))\n",
    "\n",
    "\n",
    "    # Get mask by filling triangle\n",
    "    mask = np.zeros((r[3], r[2], 4), dtype = np.float32)\n",
    "    cv2.fillConvexPoly(mask, np.int32(tRect), (1.0, 1.0, 1.0,1.0), 16, 0);\n",
    "\n",
    "    # Apply warpImage to small rectangular patches\n",
    "    img1Rect = img1[r1[1]:r1[1] + r1[3], r1[0]:r1[0] + r1[2]]\n",
    "    img2Rect = img2[r2[1]:r2[1] + r2[3], r2[0]:r2[0] + r2[2]]\n",
    "\n",
    "    size = (r[2], r[3])\n",
    "    warpImage1 = applyAffineTransform(img1Rect, t1Rect, tRect, size)\n",
    "    warpImage2 = applyAffineTransform(img2Rect, t2Rect, tRect, size)\n",
    "    \n",
    "\n",
    "    # Alpha blend rectangular patches\n",
    "    imgRect = (1.0 - alpha) * warpImage1 + alpha * warpImage2\n",
    "\n",
    "    # Copy triangular region of the rectangular patch to the output image\n",
    "    try :\n",
    "        img[r[1]:r[1]+r[3], r[0]:r[0]+r[2]] = img[r[1]:r[1]+r[3], r[0]:r[0]+r[2]] * ( 1 - mask ) + imgRect * mask\n",
    "    except :\n",
    "        print(( 1 - mask ).shape, \"띠띠\")\n",
    "        print(img[r[1]:r[1]+r[3], r[0]:r[0]+r[2]].shape, \"빵빵\")\n",
    "        raise Exception\n",
    "\n",
    "    return mask\n",
    "    "
   ]
  },
  {
   "cell_type": "code",
   "execution_count": 114,
   "metadata": {},
   "outputs": [],
   "source": [
    "# Check if a point is inside a rectangle\n",
    "def rectContains(rect, point) :\n",
    "    if point[0] < rect[0] :\n",
    "        return False\n",
    "    elif point[1] < rect[1] :\n",
    "        return False\n",
    "    elif point[0] > rect[2] :\n",
    "        return False\n",
    "    elif point[1] > rect[3] :\n",
    "        return False\n",
    "    return True\n",
    "\n",
    "\n",
    "def calculateDelaunayTriangles(rect, points):\n",
    "    # Create subdiv\n",
    "    subdiv = cv2.Subdiv2D(rect)\n",
    "   \n",
    "    # Insert points into subdiv\n",
    "    for p in points:\n",
    "        subdiv.insert((p[0], p[1]))\n",
    "\n",
    "   \n",
    "    # List of triangles. Each triangle is a list of 3 points ( 6 numbers )\n",
    "    triangleList = subdiv.getTriangleList()\n",
    "\n",
    "    # Find the indices of triangles in the points array\n",
    "\n",
    "    delaunayTri = []\n",
    "    \n",
    "    for t in triangleList:\n",
    "        pt = []\n",
    "        pt.append((t[0], t[1]))\n",
    "        pt.append((t[2], t[3]))\n",
    "        pt.append((t[4], t[5]))\n",
    "        \n",
    "        pt1 = (t[0], t[1])\n",
    "        pt2 = (t[2], t[3])\n",
    "        pt3 = (t[4], t[5])        \n",
    "        \n",
    "        if rectContains(rect, pt1) and rectContains(rect, pt2) and rectContains(rect, pt3):\n",
    "            ind = []\n",
    "            for j in range(0, 3):\n",
    "                for k in range(0, len(points)):                    \n",
    "                    if(abs(pt[j][0] - points[k][0]) < 1.0 and abs(pt[j][1] - points[k][1]) < 1.0):\n",
    "                        ind.append(k)                            \n",
    "            if len(ind) == 3:                                                \n",
    "                delaunayTri.append((ind[0], ind[1], ind[2]))\n",
    "        \n",
    "\n",
    "    \n",
    "    return delaunayTri\n"
   ]
  },
  {
   "cell_type": "code",
   "execution_count": 115,
   "metadata": {},
   "outputs": [],
   "source": [
    "# filename1 = './data/images/ben.jpg'\n",
    "# filename2 = './data/images/morgan.jpg'\n",
    "alpha = 0.5\n",
    "\n",
    "# Read images\n",
    "# img1 = cv2.imread(filename1);\n",
    "# img2 = cv2.imread(filename2);\n",
    "img1 = im1\n",
    "img2 = im2\n",
    "\n",
    "# Convert Mat to float data type\n",
    "img1 = np.float32(img1)\n",
    "img2 = np.float32(img2)\n",
    "\n",
    "# Read array of corresponding points\n",
    "#     points1 = readPoints(filename1 + '.txt')\n",
    "#     points2 = readPoints(filename2 + '.txt')\n",
    "points1 = landmarksAll1\n",
    "points2 = landmarksAll2\n",
    "points = [];\n",
    "\n",
    "# Compute weighted average point coordinates\n",
    "for i in range(0, len(points1)):\n",
    "    x = ( 1 - alpha ) * points1[i][0] + alpha * points2[i][0]\n",
    "    y = ( 1 - alpha ) * points1[i][1] + alpha * points2[i][1]\n",
    "    points.append((x,y))\n"
   ]
  },
  {
   "cell_type": "code",
   "execution_count": 116,
   "metadata": {},
   "outputs": [
    {
     "data": {
      "text/plain": [
       "(600, 600, 4)"
      ]
     },
     "execution_count": 116,
     "metadata": {},
     "output_type": "execute_result"
    }
   ],
   "source": [
    "im2.shape\n",
    "im1.shape"
   ]
  },
  {
   "cell_type": "code",
   "execution_count": 117,
   "metadata": {},
   "outputs": [
    {
     "data": {
      "text/plain": [
       "(600, 600, 4)"
      ]
     },
     "execution_count": 117,
     "metadata": {},
     "output_type": "execute_result"
    }
   ],
   "source": [
    "im2.shape"
   ]
  },
  {
   "cell_type": "code",
   "execution_count": 118,
   "metadata": {},
   "outputs": [
    {
     "name": "stdout",
     "output_type": "stream",
     "text": [
      "(0, 0, 600, 600)\n"
     ]
    },
    {
     "data": {
      "text/plain": [
       "[(17, 37, 0),\n",
       " (37, 17, 18),\n",
       " (2, 75, 1),\n",
       " (75, 2, 3),\n",
       " (75, 17, 0),\n",
       " (17, 75, 68),\n",
       " (29, 39, 28),\n",
       " (39, 29, 40),\n",
       " (0, 1, 75),\n",
       " (1, 0, 41),\n",
       " (31, 2, 40),\n",
       " (2, 31, 3),\n",
       " (74, 3, 4),\n",
       " (3, 74, 75),\n",
       " (2, 1, 40),\n",
       " (54, 47, 13),\n",
       " (47, 54, 35),\n",
       " (74, 4, 5),\n",
       " (49, 32, 50),\n",
       " (32, 49, 31),\n",
       " (73, 74, 7),\n",
       " (4, 3, 31),\n",
       " (67, 59, 61),\n",
       " (59, 67, 58),\n",
       " (74, 5, 6),\n",
       " (5, 4, 48),\n",
       " (67, 62, 66),\n",
       " (62, 67, 61),\n",
       " (74, 6, 7),\n",
       " (6, 5, 59),\n",
       " (56, 8, 57),\n",
       " (8, 56, 9),\n",
       " (7, 6, 58),\n",
       " (29, 35, 30),\n",
       " (35, 29, 42),\n",
       " (73, 7, 8),\n",
       " (8, 7, 57),\n",
       " (10, 73, 9),\n",
       " (73, 10, 11),\n",
       " (9, 73, 8),\n",
       " (11, 72, 73),\n",
       " (72, 11, 12),\n",
       " (10, 9, 55),\n",
       " (40, 29, 31),\n",
       " (72, 12, 13),\n",
       " (11, 10, 54),\n",
       " (21, 27, 38),\n",
       " (27, 21, 22),\n",
       " (12, 11, 54),\n",
       " (38, 40, 41),\n",
       " (40, 38, 39),\n",
       " (72, 13, 71),\n",
       " (13, 12, 54),\n",
       " (41, 0, 36),\n",
       " (70, 71, 16),\n",
       " (13, 14, 71),\n",
       " (14, 13, 46),\n",
       " (38, 20, 21),\n",
       " (20, 38, 37),\n",
       " (15, 71, 14),\n",
       " (71, 15, 16),\n",
       " (15, 14, 46),\n",
       " (37, 18, 19),\n",
       " (16, 15, 45),\n",
       " (69, 18, 68),\n",
       " (18, 69, 19),\n",
       " (0, 37, 36),\n",
       " (17, 68, 18),\n",
       " (35, 42, 47),\n",
       " (69, 20, 19),\n",
       " (20, 69, 22),\n",
       " (20, 22, 21),\n",
       " (19, 20, 37),\n",
       " (28, 42, 29),\n",
       " (42, 28, 27),\n",
       " (46, 13, 47),\n",
       " (22, 42, 27),\n",
       " (42, 22, 43),\n",
       " (43, 22, 23),\n",
       " (22, 69, 23),\n",
       " (47, 44, 46),\n",
       " (44, 47, 43),\n",
       " (69, 24, 23),\n",
       " (24, 69, 25),\n",
       " (23, 24, 43),\n",
       " (25, 69, 26),\n",
       " (25, 44, 24),\n",
       " (44, 25, 26),\n",
       " (16, 45, 26),\n",
       " (26, 70, 16),\n",
       " (70, 26, 69),\n",
       " (31, 29, 30),\n",
       " (27, 28, 39),\n",
       " (30, 34, 33),\n",
       " (34, 30, 35),\n",
       " (10, 64, 54),\n",
       " (64, 10, 55),\n",
       " (51, 33, 52),\n",
       " (33, 51, 50),\n",
       " (65, 53, 55),\n",
       " (53, 65, 63),\n",
       " (31, 30, 32),\n",
       " (48, 4, 31),\n",
       " (5, 60, 59),\n",
       " (60, 5, 48),\n",
       " (32, 30, 33),\n",
       " (52, 33, 34),\n",
       " (32, 33, 50),\n",
       " (34, 35, 52),\n",
       " (38, 41, 37),\n",
       " (27, 39, 38),\n",
       " (36, 37, 41),\n",
       " (40, 1, 41),\n",
       " (46, 44, 45),\n",
       " (42, 43, 47),\n",
       " (43, 24, 44),\n",
       " (44, 26, 45),\n",
       " (45, 15, 46),\n",
       " (48, 31, 49),\n",
       " (48, 49, 60),\n",
       " (6, 59, 58),\n",
       " (49, 50, 61),\n",
       " (57, 7, 58),\n",
       " (50, 51, 61),\n",
       " (53, 63, 52),\n",
       " (51, 52, 63),\n",
       " (52, 35, 53),\n",
       " (9, 56, 55),\n",
       " (53, 35, 64),\n",
       " (64, 35, 54),\n",
       " (55, 53, 64),\n",
       " (55, 56, 65),\n",
       " (51, 63, 62),\n",
       " (56, 57, 66),\n",
       " (56, 66, 65),\n",
       " (57, 58, 66),\n",
       " (49, 61, 59),\n",
       " (49, 59, 60),\n",
       " (61, 51, 62),\n",
       " (66, 58, 67),\n",
       " (62, 63, 66),\n",
       " (66, 63, 65)]"
      ]
     },
     "execution_count": 118,
     "metadata": {},
     "output_type": "execute_result"
    }
   ],
   "source": [
    "\n",
    "avgPoints = []\n",
    "for a, b in zip(points1, points2) :\n",
    "    avgPoints.append(((a[0]+b[0])/2 , (a[1]+b[1])/2))\n",
    "avgPoints\n",
    "print((0,0,im1.shape[1],im1.shape[0]))\n",
    "dt = calculateDelaunayTriangles((0,0,im2.shape[1],im2.shape[0]),avgPoints)\n",
    "dt"
   ]
  },
  {
   "cell_type": "code",
   "execution_count": 119,
   "metadata": {},
   "outputs": [
    {
     "data": {
      "text/plain": [
       "array([[[0., 0., 0., 0.],\n",
       "        [0., 0., 0., 0.],\n",
       "        [0., 0., 0., 0.],\n",
       "        [0., 0., 0., 0.],\n",
       "        [0., 0., 0., 0.],\n",
       "        [0., 0., 0., 0.],\n",
       "        [0., 0., 0., 0.],\n",
       "        [0., 0., 0., 0.],\n",
       "        [0., 0., 0., 0.],\n",
       "        [0., 0., 0., 0.],\n",
       "        [0., 0., 0., 0.],\n",
       "        [1., 1., 1., 0.],\n",
       "        [0., 0., 0., 0.]],\n",
       "\n",
       "       [[0., 0., 0., 0.],\n",
       "        [0., 0., 0., 0.],\n",
       "        [0., 0., 0., 0.],\n",
       "        [0., 0., 0., 0.],\n",
       "        [0., 0., 0., 0.],\n",
       "        [0., 0., 0., 0.],\n",
       "        [0., 0., 0., 0.],\n",
       "        [0., 0., 0., 0.],\n",
       "        [0., 0., 0., 0.],\n",
       "        [0., 0., 0., 0.],\n",
       "        [1., 1., 1., 0.],\n",
       "        [1., 1., 1., 0.],\n",
       "        [0., 0., 0., 0.]],\n",
       "\n",
       "       [[0., 0., 0., 0.],\n",
       "        [0., 0., 0., 0.],\n",
       "        [0., 0., 0., 0.],\n",
       "        [0., 0., 0., 0.],\n",
       "        [0., 0., 0., 0.],\n",
       "        [0., 0., 0., 0.],\n",
       "        [0., 0., 0., 0.],\n",
       "        [0., 0., 0., 0.],\n",
       "        [0., 0., 0., 0.],\n",
       "        [1., 1., 1., 0.],\n",
       "        [1., 1., 1., 0.],\n",
       "        [1., 1., 1., 0.],\n",
       "        [0., 0., 0., 0.]],\n",
       "\n",
       "       [[0., 0., 0., 0.],\n",
       "        [0., 0., 0., 0.],\n",
       "        [0., 0., 0., 0.],\n",
       "        [0., 0., 0., 0.],\n",
       "        [0., 0., 0., 0.],\n",
       "        [0., 0., 0., 0.],\n",
       "        [0., 0., 0., 0.],\n",
       "        [0., 0., 0., 0.],\n",
       "        [1., 1., 1., 0.],\n",
       "        [1., 1., 1., 0.],\n",
       "        [1., 1., 1., 0.],\n",
       "        [1., 1., 1., 0.],\n",
       "        [0., 0., 0., 0.]],\n",
       "\n",
       "       [[0., 0., 0., 0.],\n",
       "        [0., 0., 0., 0.],\n",
       "        [0., 0., 0., 0.],\n",
       "        [0., 0., 0., 0.],\n",
       "        [0., 0., 0., 0.],\n",
       "        [0., 0., 0., 0.],\n",
       "        [0., 0., 0., 0.],\n",
       "        [1., 1., 1., 0.],\n",
       "        [1., 1., 1., 0.],\n",
       "        [1., 1., 1., 0.],\n",
       "        [1., 1., 1., 0.],\n",
       "        [1., 1., 1., 0.],\n",
       "        [1., 1., 1., 0.]],\n",
       "\n",
       "       [[0., 0., 0., 0.],\n",
       "        [0., 0., 0., 0.],\n",
       "        [0., 0., 0., 0.],\n",
       "        [0., 0., 0., 0.],\n",
       "        [0., 0., 0., 0.],\n",
       "        [1., 1., 1., 0.],\n",
       "        [1., 1., 1., 0.],\n",
       "        [1., 1., 1., 0.],\n",
       "        [1., 1., 1., 0.],\n",
       "        [1., 1., 1., 0.],\n",
       "        [1., 1., 1., 0.],\n",
       "        [1., 1., 1., 0.],\n",
       "        [1., 1., 1., 0.]],\n",
       "\n",
       "       [[0., 0., 0., 0.],\n",
       "        [0., 0., 0., 0.],\n",
       "        [0., 0., 0., 0.],\n",
       "        [0., 0., 0., 0.],\n",
       "        [1., 1., 1., 0.],\n",
       "        [1., 1., 1., 0.],\n",
       "        [1., 1., 1., 0.],\n",
       "        [1., 1., 1., 0.],\n",
       "        [1., 1., 1., 0.],\n",
       "        [1., 1., 1., 0.],\n",
       "        [1., 1., 1., 0.],\n",
       "        [1., 1., 1., 0.],\n",
       "        [1., 1., 1., 0.]],\n",
       "\n",
       "       [[0., 0., 0., 0.],\n",
       "        [0., 0., 0., 0.],\n",
       "        [0., 0., 0., 0.],\n",
       "        [1., 1., 1., 0.],\n",
       "        [1., 1., 1., 0.],\n",
       "        [1., 1., 1., 0.],\n",
       "        [1., 1., 1., 0.],\n",
       "        [1., 1., 1., 0.],\n",
       "        [1., 1., 1., 0.],\n",
       "        [1., 1., 1., 0.],\n",
       "        [1., 1., 1., 0.],\n",
       "        [1., 1., 1., 0.],\n",
       "        [1., 1., 1., 0.]],\n",
       "\n",
       "       [[0., 0., 0., 0.],\n",
       "        [0., 0., 0., 0.],\n",
       "        [1., 1., 1., 0.],\n",
       "        [1., 1., 1., 0.],\n",
       "        [1., 1., 1., 0.],\n",
       "        [1., 1., 1., 0.],\n",
       "        [1., 1., 1., 0.],\n",
       "        [1., 1., 1., 0.],\n",
       "        [1., 1., 1., 0.],\n",
       "        [1., 1., 1., 0.],\n",
       "        [1., 1., 1., 0.],\n",
       "        [1., 1., 1., 0.],\n",
       "        [1., 1., 1., 0.]],\n",
       "\n",
       "       [[0., 0., 0., 0.],\n",
       "        [1., 1., 1., 0.],\n",
       "        [1., 1., 1., 0.],\n",
       "        [1., 1., 1., 0.],\n",
       "        [1., 1., 1., 0.],\n",
       "        [1., 1., 1., 0.],\n",
       "        [1., 1., 1., 0.],\n",
       "        [1., 1., 1., 0.],\n",
       "        [1., 1., 1., 0.],\n",
       "        [1., 1., 1., 0.],\n",
       "        [0., 0., 0., 0.],\n",
       "        [0., 0., 0., 0.],\n",
       "        [0., 0., 0., 0.]],\n",
       "\n",
       "       [[1., 1., 1., 0.],\n",
       "        [1., 1., 1., 0.],\n",
       "        [1., 1., 1., 0.],\n",
       "        [1., 1., 1., 0.],\n",
       "        [0., 0., 0., 0.],\n",
       "        [0., 0., 0., 0.],\n",
       "        [0., 0., 0., 0.],\n",
       "        [0., 0., 0., 0.],\n",
       "        [0., 0., 0., 0.],\n",
       "        [0., 0., 0., 0.],\n",
       "        [0., 0., 0., 0.],\n",
       "        [0., 0., 0., 0.],\n",
       "        [0., 0., 0., 0.]]], dtype=float32)"
      ]
     },
     "execution_count": 119,
     "metadata": {},
     "output_type": "execute_result"
    }
   ],
   "source": [
    "mmm"
   ]
  },
  {
   "cell_type": "code",
   "execution_count": 120,
   "metadata": {},
   "outputs": [],
   "source": [
    "# Allocate space for final output\n",
    "imgMorph = np.zeros(img1.shape, dtype = img1.dtype)\n",
    "\n",
    "# Read triangles from tri.txt\n",
    "# with open(\"./data/images/tri.txt\") as file :\n",
    "    \n",
    "for line in dt :\n",
    "#     x,y,z = line.split()\n",
    "    x = line[0] \n",
    "    y = line[1]\n",
    "    z = line[2]\n",
    "    \n",
    "    x = int(x)\n",
    "    y = int(y)\n",
    "    z = int(z)\n",
    "\n",
    "    t1 = [points1[x], points1[y], points1[z]]\n",
    "    t2 = [points2[x], points2[y], points2[z]]\n",
    "    t = [ points[x], points[y], points[z] ]\n",
    "\n",
    "    # Morph one triangle at a time.\n",
    "    morphTriangle(img1, img2, imgMorph, t1, t2, t, alpha)\n",
    "\n",
    "\n"
   ]
  },
  {
   "cell_type": "code",
   "execution_count": 108,
   "metadata": {},
   "outputs": [
    {
     "data": {
      "text/plain": [
       "(600, 600, 4)"
      ]
     },
     "execution_count": 108,
     "metadata": {},
     "output_type": "execute_result"
    }
   ],
   "source": [
    "imgMorph.shape"
   ]
  },
  {
   "cell_type": "code",
   "execution_count": 69,
   "metadata": {},
   "outputs": [],
   "source": [
    "imgMorph[:,:,3] = np.full(imgMorph[:,:,3].shape, 255)"
   ]
  },
  {
   "cell_type": "code",
   "execution_count": 121,
   "metadata": {},
   "outputs": [],
   "source": [
    "# Display Result\n",
    "cv2.imshow(\"Morphed Face\", np.uint8(imgMorph))\n",
    "cv2.waitKey(0)\n",
    "cv2.destroyAllWindows() "
   ]
  },
  {
   "cell_type": "markdown",
   "metadata": {},
   "source": [
    "# 오른 귀가 보이는 모습으로의 tri.txt가 되어있음\n",
    "- 따라서 왼쪽 귀가 보이는 얽굴이면 좌우 반전 해줘야 될 것 같음"
   ]
  },
  {
   "cell_type": "markdown",
   "metadata": {},
   "source": [
    "<code>cv2.flip(im1, 1)</code>\n",
    "<code>cv2.flip(im2, 1)</code>\n",
    "를 추가해야됨"
   ]
  }
 ],
 "metadata": {
  "kernelspec": {
   "display_name": "Python 3",
   "language": "python",
   "name": "python3"
  },
  "language_info": {
   "codemirror_mode": {
    "name": "ipython",
    "version": 3
   },
   "file_extension": ".py",
   "mimetype": "text/x-python",
   "name": "python",
   "nbconvert_exporter": "python",
   "pygments_lexer": "ipython3",
   "version": "3.6.5"
  }
 },
 "nbformat": 4,
 "nbformat_minor": 2
}
